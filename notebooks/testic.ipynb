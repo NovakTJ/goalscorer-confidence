{
 "cells": [
  {
   "cell_type": "code",
   "execution_count": 3,
   "metadata": {},
   "outputs": [
    {
     "name": "stdout",
     "output_type": "stream",
     "text": [
      "{'id': '643', 'player_name': 'Eric Dier', 'games': '20', 'time': '1519', 'goals': '3', 'xG': '1.4176100101321936', 'assists': '0', 'xA': '1.1008159331977367', 'shots': '9', 'key_passes': '8', 'yellow_cards': '4', 'red_cards': '0', 'position': 'D M S', 'team_title': 'Tottenham', 'npg': '3', 'npxG': '1.4176100101321936', 'xGChain': '5.309164300560951', 'xGBuildup': '4.851275973021984'}\n"
     ]
    }
   ],
   "source": [
    "import matplotlib.pyplot as plt\n",
    "import pandas as pd\n",
    "%matplotlib inline\n",
    "# %pip install understatapi\n",
    "from understatapi import UnderstatClient\n",
    "\n",
    "YEAR = '2018'\n",
    "LEAGUE = 'EPL'\n",
    "# get data for every player playing in the Premier League in 2019/20\n",
    "\n",
    "\n",
    "understat = UnderstatClient()\n",
    "league_player_data = understat.league(league=LEAGUE).get_player_data(season=YEAR)\n",
    "print(league_player_data[100])"
   ]
  },
  {
   "cell_type": "code",
   "execution_count": null,
   "metadata": {},
   "outputs": [],
   "source": []
  }
 ],
 "metadata": {
  "kernelspec": {
   "display_name": "Python 3",
   "language": "python",
   "name": "python3"
  },
  "language_info": {
   "codemirror_mode": {
    "name": "ipython",
    "version": 3
   },
   "file_extension": ".py",
   "mimetype": "text/x-python",
   "name": "python",
   "nbconvert_exporter": "python",
   "pygments_lexer": "ipython3",
   "version": "3.10.13"
  }
 },
 "nbformat": 4,
 "nbformat_minor": 2
}
